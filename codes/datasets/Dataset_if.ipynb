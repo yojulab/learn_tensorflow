{
  "nbformat": 4,
  "nbformat_minor": 0,
  "metadata": {
    "colab": {
      "provenance": [],
      "collapsed_sections": [],
      "authorship_tag": "ABX9TyPXfzxVM7rVu6CgmW/Hj3xr",
      "include_colab_link": true
    },
    "kernelspec": {
      "name": "python3",
      "display_name": "Python 3"
    },
    "language_info": {
      "name": "python"
    }
  },
  "cells": [
    {
      "cell_type": "markdown",
      "metadata": {
        "id": "view-in-github",
        "colab_type": "text"
      },
      "source": [
        "<a href=\"https://colab.research.google.com/github/yojulab/learn_tensorflow/blob/main/codes/datasets/Dataset_if.ipynb\" target=\"_parent\"><img src=\"https://colab.research.google.com/assets/colab-badge.svg\" alt=\"Open In Colab\"/></a>"
      ]
    },
    {
      "cell_type": "markdown",
      "source": [
        "##tf.data.Dataset.Dataset"
      ],
      "metadata": {
        "id": "CJfjA_XCW70_"
      }
    },
    {
      "cell_type": "markdown",
      "source": [
        "###from_tensor_slices() : numpy to tensor"
      ],
      "metadata": {
        "id": "R8L2hdeGW11x"
      }
    },
    {
      "cell_type": "code",
      "execution_count": 1,
      "metadata": {
        "id": "c1hU-mypUiEH"
      },
      "outputs": [],
      "source": [
        "import numpy as np\n",
        "random_numbers = np.random.normal(size=(1000, 16))"
      ]
    },
    {
      "cell_type": "code",
      "source": [
        "import tensorflow as tf\n",
        "datasets = tf.data.Dataset.from_tensor_slices(random_numbers)"
      ],
      "metadata": {
        "id": "UzXBHlLVUtcW"
      },
      "execution_count": 2,
      "outputs": []
    },
    {
      "cell_type": "code",
      "source": [
        "for i, element in enumerate(datasets):\n",
        "  # print(element.shape)\n",
        "  # if i >= 2:\n",
        "    # break\n",
        "  pass\n",
        "print(i+1)"
      ],
      "metadata": {
        "colab": {
          "base_uri": "https://localhost:8080/"
        },
        "id": "TdYWgRtdU35P",
        "outputId": "0244ee2a-4a5e-4580-f0e8-05a1b10e5949"
      },
      "execution_count": 15,
      "outputs": [
        {
          "output_type": "stream",
          "name": "stdout",
          "text": [
            "1000\n"
          ]
        }
      ]
    },
    {
      "cell_type": "code",
      "source": [
        "batched_datasets = datasets.batch(100)\n",
        "for i, element in enumerate(batched_datasets):\n",
        "  # print(element.shape)\n",
        "  # if i >= 2:\n",
        "  # break\n",
        "\n",
        "  pass\n",
        "print(f'{i+1}, {type(enumerate(batched_datasets))}, {list(enumerate(batched_datasets))[5]}')\n"
      ],
      "metadata": {
        "colab": {
          "base_uri": "https://localhost:8080/"
        },
        "id": "Mc1ShomqVIAa",
        "outputId": "7075a99d-3255-4c68-a0d0-aeee8b742b38"
      },
      "execution_count": 13,
      "outputs": [
        {
          "output_type": "stream",
          "name": "stdout",
          "text": [
            "10, <class 'enumerate'>, (5, <tf.Tensor: shape=(100, 16), dtype=float64, numpy=\n",
            "array([[ 0.51661189,  0.69588978,  0.41672656, ...,  2.21976228,\n",
            "         0.08749144, -1.07747279],\n",
            "       [-0.04982776,  0.68619564,  0.78353348, ..., -0.73409535,\n",
            "         1.11452999,  2.94000006],\n",
            "       [-0.98313982, -0.15537736,  0.44711323, ..., -0.53791561,\n",
            "         1.11349544, -0.29591476],\n",
            "       ...,\n",
            "       [ 1.17006278, -0.97004936, -0.36637129, ..., -0.56884934,\n",
            "         0.8692406 ,  1.40239484],\n",
            "       [-2.01292569,  0.39322861, -0.27813779, ..., -0.23381251,\n",
            "         0.28529632, -0.52349047],\n",
            "       [-1.9351208 , -0.12241672, -0.28029224, ..., -0.26666286,\n",
            "         0.53380393, -0.88928736]])>)\n"
          ]
        }
      ]
    },
    {
      "cell_type": "markdown",
      "source": [
        "###shuffle()"
      ],
      "metadata": {
        "id": "LMzOHyCEXP0b"
      }
    },
    {
      "cell_type": "markdown",
      "source": [
        "###prefetch() : for GPU"
      ],
      "metadata": {
        "id": "JvEtyeRxXYkH"
      }
    },
    {
      "cell_type": "markdown",
      "source": [
        "###map()"
      ],
      "metadata": {
        "id": "5P4FhQR4XeBe"
      }
    },
    {
      "cell_type": "code",
      "source": [
        "reshaped_datasets = datasets.map(lambda x:tf.reshape(x, (4,4)))\n",
        "for i, element in enumerate(reshaped_datasets):\n",
        "  print(element.shape)\n",
        "  # if i >= 2:\n",
        "  #   break\n",
        "\n",
        "  pass\n",
        "print(i+1)\n"
      ],
      "metadata": {
        "id": "HaAd1WK-VeBW"
      },
      "execution_count": null,
      "outputs": []
    },
    {
      "cell_type": "code",
      "source": [],
      "metadata": {
        "id": "TTbt5_HSY3GH"
      },
      "execution_count": null,
      "outputs": []
    }
  ]
}